{
 "cells": [
  {
   "cell_type": "code",
   "execution_count": 18,
   "metadata": {},
   "outputs": [
    {
     "data": {
      "text/plain": [
       "array([ 1.0958664 , -0.26859363, -0.56962943,  0.68449335,  0.02410509,\n",
       "        0.30000013, -1.02305396,  0.09331202,  0.5848849 , -0.43893192,\n",
       "       -0.26501154,  0.36366213,  0.37421971, -1.00579963,  0.39384819,\n",
       "        0.69728595,  0.02316545,  0.22350859,  0.44045841, -0.05272188,\n",
       "        0.57232594,  0.06099485, -0.5207837 ,  0.6319329 ,  0.05987605,\n",
       "       -0.25318647])"
      ]
     },
     "execution_count": 18,
     "metadata": {},
     "output_type": "execute_result"
    }
   ],
   "source": [
    "import numpy as np\n",
    "random_numbers = np.random.randn(26) / 2 \n",
    "random_numbers\n"
   ]
  },
  {
   "cell_type": "code",
   "execution_count": 19,
   "metadata": {},
   "outputs": [
    {
     "name": "stdout",
     "output_type": "stream",
     "text": [
      "1.0958664040752093\n",
      "-0.2685936252471941\n",
      "-0.569629425510599\n",
      "0.6844933537118925\n",
      "0.02410508847763176\n",
      "0.30000012560932404\n",
      "-1.0230539634857632\n",
      "0.09331201665082907\n",
      "0.5848849014356596\n",
      "-0.4389319184478332\n",
      "-0.265011537312034\n",
      "0.36366213272967074\n",
      "0.37421971032564955\n",
      "-1.0057996319124094\n",
      "0.3938481882533688\n",
      "0.6972859506020163\n",
      "0.023165454711651438\n",
      "0.22350858982208302\n",
      "0.4404584099319296\n",
      "-0.05272187859219199\n",
      "0.5723259416484808\n",
      "0.06099485387374528\n",
      "-0.5207836957420665\n",
      "0.6319328962133753\n",
      "0.05987604688023325\n",
      "-0.25318646678645396\n"
     ]
    }
   ],
   "source": [
    "for i in random_numbers:\n",
    "\tprint(i)"
   ]
  }
 ],
 "metadata": {
  "kernelspec": {
   "display_name": "Python 3",
   "language": "python",
   "name": "python3"
  },
  "language_info": {
   "codemirror_mode": {
    "name": "ipython",
    "version": 3
   },
   "file_extension": ".py",
   "mimetype": "text/x-python",
   "name": "python",
   "nbconvert_exporter": "python",
   "pygments_lexer": "ipython3",
   "version": "3.8.10"
  },
  "orig_nbformat": 4
 },
 "nbformat": 4,
 "nbformat_minor": 2
}
