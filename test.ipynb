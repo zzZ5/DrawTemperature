{
 "cells": [
  {
   "cell_type": "code",
   "execution_count": 1,
   "metadata": {},
   "outputs": [
    {
     "ename": "NameError",
     "evalue": "name 'i' is not defined",
     "output_type": "error",
     "traceback": [
      "\u001b[1;31m---------------------------------------------------------------------------\u001b[0m",
      "\u001b[1;31mNameError\u001b[0m                                 Traceback (most recent call last)",
      "\u001b[1;32mc:\\Users\\baoju\\Desktop\\python\\DrawTemperature\\test.ipynb Cell 1\u001b[0m in \u001b[0;36m<cell line: 13>\u001b[1;34m()\u001b[0m\n\u001b[0;32m     <a href='vscode-notebook-cell:/c%3A/Users/baoju/Desktop/python/DrawTemperature/test.ipynb#X10sZmlsZQ%3D%3D?line=9'>10</a>\u001b[0m plt\u001b[39m.\u001b[39mrcParams[\u001b[39m'\u001b[39m\u001b[39maxes.unicode_minus\u001b[39m\u001b[39m'\u001b[39m] \u001b[39m=\u001b[39m \u001b[39mFalse\u001b[39;00m\n\u001b[0;32m     <a href='vscode-notebook-cell:/c%3A/Users/baoju/Desktop/python/DrawTemperature/test.ipynb#X10sZmlsZQ%3D%3D?line=11'>12</a>\u001b[0m path_pre \u001b[39m=\u001b[39m \u001b[39m'\u001b[39m\u001b[39mdata2\u001b[39m\u001b[39m'\u001b[39m\n\u001b[1;32m---> <a href='vscode-notebook-cell:/c%3A/Users/baoju/Desktop/python/DrawTemperature/test.ipynb#X10sZmlsZQ%3D%3D?line=12'>13</a>\u001b[0m data \u001b[39m=\u001b[39m pandas\u001b[39m.\u001b[39mread_csv(path_pre \u001b[39m+\u001b[39m \u001b[39m'\u001b[39m\u001b[39m/\u001b[39m\u001b[39m'\u001b[39m \u001b[39m+\u001b[39m \u001b[39m'\u001b[39m\u001b[39mmr\u001b[39m\u001b[39m'\u001b[39m \u001b[39m+\u001b[39m \u001b[39mstr\u001b[39m(i) \u001b[39m+\u001b[39m \u001b[39m'\u001b[39m\u001b[39m.csv\u001b[39m\u001b[39m'\u001b[39m)\n\u001b[0;32m     <a href='vscode-notebook-cell:/c%3A/Users/baoju/Desktop/python/DrawTemperature/test.ipynb#X10sZmlsZQ%3D%3D?line=13'>14</a>\u001b[0m co2 \u001b[39m=\u001b[39m pandas\u001b[39m.\u001b[39mread_csv(path_pre \u001b[39m+\u001b[39m \u001b[39m'\u001b[39m\u001b[39m/\u001b[39m\u001b[39m'\u001b[39m \u001b[39m+\u001b[39m \u001b[39m'\u001b[39m\u001b[39mCO2-\u001b[39m\u001b[39m'\u001b[39m \u001b[39m+\u001b[39m \u001b[39mstr\u001b[39m(i) \u001b[39m+\u001b[39m \u001b[39m'\u001b[39m\u001b[39m.csv\u001b[39m\u001b[39m'\u001b[39m)\n\u001b[0;32m     <a href='vscode-notebook-cell:/c%3A/Users/baoju/Desktop/python/DrawTemperature/test.ipynb#X10sZmlsZQ%3D%3D?line=14'>15</a>\u001b[0m data[\u001b[39m'\u001b[39m\u001b[39mnewindex\u001b[39m\u001b[39m'\u001b[39m] \u001b[39m=\u001b[39m np\u001b[39m.\u001b[39marange(\u001b[39mlen\u001b[39m(data)\u001b[39m-\u001b[39m\u001b[39m1\u001b[39m, \u001b[39m-\u001b[39m\u001b[39m1\u001b[39m, \u001b[39m-\u001b[39m\u001b[39m1\u001b[39m)\n",
      "\u001b[1;31mNameError\u001b[0m: name 'i' is not defined"
     ]
    }
   ],
   "source": [
    "import pandas\n",
    "import numpy as np\n",
    "import datetime\n",
    "import seaborn\n",
    "import matplotlib.dates as mdates\n",
    "from matplotlib import pyplot as plt\n",
    "import matplotlib\n",
    "\n",
    "plt.rcParams['font.family'] = 'SimHei'\n",
    "plt.rcParams['axes.unicode_minus'] = False\n",
    "i = 1\n",
    "path_pre = 'data2'\n",
    "data = pandas.read_csv(path_pre + '/' + 'mr' + str(i) + '.csv')\n",
    "co2 = pandas.read_csv(path_pre + '/' + 'CO2-' + str(i) + '.csv')\n",
    "data['newindex'] = np.arange(len(data)-1, -1, -1)\n",
    "data.sort_values('newindex', inplace=True)\n",
    "data.drop('newindex', axis=1, inplace=True)\n",
    "data['Std'] = data.std(axis=1)\n",
    "data['Average'] = (data['Value1'] + data['Value2'] + data['Value3'])/3\n",
    "\n",
    "data['Time'] = data['Time'].astype('datetime64[ns]')\n",
    "\n",
    "co2['Time'] = co2['Time'].astype('datetime64[ns]')"
   ]
  },
  {
   "cell_type": "code",
   "execution_count": null,
   "metadata": {},
   "outputs": [],
   "source": [
    "\n",
    "if path_pre == 'data3':\n",
    "    co2['Consum'] = (co2['Value'] - 400) * 300\n",
    "else:\n",
    "    co2['Consum'] = (co2['Value'] - 400) * (i * 200 - 100)\n",
    "\n",
    "matplotlib.rcParams['xtick.direction'] = 'in'\n",
    "matplotlib.rcParams['ytick.direction'] = 'in'\n",
    "\n",
    "def format_func(value, tick_number):\n",
    "    print(value)\n",
    "    return tick_number\n",
    "# def format_func(x, pos=None):\n",
    "#     x = matplotlib.dates.num2date(x)\n",
    "#     if pos == 0:\n",
    "#         fmt = '%D %H:%M:%S.%f'\n",
    "#     else:\n",
    "#         fmt = '%H:%M:%S.%f'\n",
    "#     label = x.strftime(fmt)\n",
    "#     label = label.rstrip(\"0\")\n",
    "#     label = label.rstrip(\".\")\n",
    "#     return label\n",
    "\n",
    "fig, ax = plt.subplots(figsize=(10, 5))\n",
    "# ax.plot(data['Time'][::60], data['Value1'][::60])\n",
    "l1 = ax.errorbar(data['Time'][::], data['Average'][::],\n",
    "                 yerr=data['Std'][::],  label='温度')\n",
    "handle1, label1 = ax.get_legend_handles_labels()\n",
    "ax.xaxis.set_major_formatter(plt.FuncFormatter(format_func))\n",
    "ax.xaxis.set_major_locator(mdates.HourLocator(byhour=12))\n",
    "# ax.set_xticks([0, 1, 2, 3, 4])\n",
    "ax.set_ylabel('温度(℃)')\n",
    "ax1 = ax.twinx()\n",
    "l2 = ax1.plot(co2['Time'][::], co2['Consum']\n",
    "               [::], color='teal', label='氧气消耗速率')\n",
    "handle2, label2 = ax1.get_legend_handles_labels()\n",
    "# ax1.xaxis.set_major_formatter(plt.FuncFormatter(format_func))\n",
    "# ax1.xaxis.set_major_locator(mdates.HourLocator(interval=24))\n",
    "ax1.set_ylabel(\"氧气消耗速率(ppm/min)\")\n",
    "ax1.set_ylim((0, 20000000))\n",
    "ax.set_xlabel('时间(d)')\n",
    "\n",
    "if path_pre == 'data1':\n",
    "    plt.xlim((19290.91, 19298.11))\n",
    "\n",
    "if path_pre == 'data2':\n",
    "    # plt.xlim((19308.913, 19315.97))\n",
    "    plt.xlim((19309.5, 19316.7))\n",
    "\n",
    "if path_pre == 'data3':\n",
    "    plt.xlim((19317.913, 19324.97))\n",
    "# lns = l1+l2\n",
    "# labs = [l.get_label() for l in lns]\n",
    "# ax.legend(lns, labs, loc='upper left')\n",
    "# ax1.legend(loc='upper left')\n",
    "\n",
    "fig.legend(loc=\"upper left\", bbox_to_anchor=(\n",
    "    0, 1), bbox_transform=ax.transAxes)\n",
    "# plt.show()\n",
    "plt.savefig(path_pre + '/+' + str(i) + '.png')\n"
   ]
  }
 ],
 "metadata": {
  "kernelspec": {
   "display_name": "Python 3.10.6 64-bit",
   "language": "python",
   "name": "python3"
  },
  "language_info": {
   "codemirror_mode": {
    "name": "ipython",
    "version": 3
   },
   "file_extension": ".py",
   "mimetype": "text/x-python",
   "name": "python",
   "nbconvert_exporter": "python",
   "pygments_lexer": "ipython3",
   "version": "3.10.6"
  },
  "orig_nbformat": 2,
  "vscode": {
   "interpreter": {
    "hash": "26de051ba29f2982a8de78e945f0abaf191376122a1563185a90213a26c5da77"
   }
  }
 },
 "nbformat": 4,
 "nbformat_minor": 2
}
